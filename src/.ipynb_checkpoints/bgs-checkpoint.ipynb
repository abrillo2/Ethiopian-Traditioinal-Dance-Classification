{
 "cells": [
  {
   "cell_type": "code",
   "execution_count": 21,
   "metadata": {},
   "outputs": [],
   "source": [
    "import numpy as np\n",
    "import cv2\n",
    "import pybgs as bgs\n",
    "import sys\n",
    "import glob"
   ]
  },
  {
   "cell_type": "code",
   "execution_count": 22,
   "metadata": {},
   "outputs": [],
   "source": [
    "#dataset path\n",
    "pathDS = \"/home/ab/Documents/AI/Computer Vision/project/dataset/\"\n",
    "\n",
    "test1= cv2.VideoCapture(pathDS + 'gonder/1-3.mp4')\n",
    "if not test1.isOpened:\n",
    "    print(\"Unable to open: \" + test1)\n",
    "    exit(0)"
   ]
  },
  {
   "cell_type": "code",
   "execution_count": 23,
   "metadata": {},
   "outputs": [],
   "source": [
    "background_subtr_method = bgs.ViBe()"
   ]
  },
  {
   "cell_type": "code",
   "execution_count": 24,
   "metadata": {},
   "outputs": [],
   "source": [
    "i = 0\n",
    "while True:\n",
    "    \n",
    "    # read video frames\n",
    "    retval, frame = test1.read()\n",
    "    # check whether the frames have been grabbed\n",
    "    if not retval:\n",
    "        break\n",
    "    # resize video frames\n",
    "    frame = cv2.resize(frame, (640, 360)) \n",
    "    # pass the frame to the background subtractor\n",
    "    foreground_mask = background_subtr_method.apply(frame)\n",
    "\n",
    "    # obtain the background without foreground mask\n",
    "    img_bgmodel = background_subtr_method.getBackgroundModel()\n",
    "    \n",
    "    # show the current frame, foreground mask, subtracted result\n",
    "    #cv2.imshow(\"Foreground Masks\", foreground_mask)\n",
    "    #cv2.imshow(\"Subtraction result\", img_bgmodel)\n",
    "    \n",
    "    #currentFrame = np.dot(frame[...,:3], [0.2989, 0.5870, 0.1140])\n",
    "    \n",
    "    #result = foreground_mask * currentFrame\n",
    "    \n",
    "    cv2.imwrite(pathDS + 'gonder/bgs/test'+ str(i) + '.jpg',foreground_mask)\n",
    "    i = i + 1\n",
    "    \n",
    "    keyboard = cv2.waitKey(10)\n",
    "    if keyboard == 27:\n",
    "        break"
   ]
  },
  {
   "cell_type": "code",
   "execution_count": null,
   "metadata": {},
   "outputs": [],
   "source": []
  }
 ],
 "metadata": {
  "kernelspec": {
   "display_name": "Python 3",
   "language": "python",
   "name": "python3"
  },
  "language_info": {
   "codemirror_mode": {
    "name": "ipython",
    "version": 3
   },
   "file_extension": ".py",
   "mimetype": "text/x-python",
   "name": "python",
   "nbconvert_exporter": "python",
   "pygments_lexer": "ipython3",
   "version": "3.8.5"
  }
 },
 "nbformat": 4,
 "nbformat_minor": 4
}
